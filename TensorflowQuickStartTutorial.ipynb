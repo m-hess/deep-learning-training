{
  "nbformat": 4,
  "nbformat_minor": 0,
  "metadata": {
    "colab": {
      "name": "TensorflowQuickStartTutorial.ipynb",
      "provenance": [],
      "collapsed_sections": [],
      "authorship_tag": "ABX9TyMqcj7kpcXhUE9OtWWjROBm",
      "include_colab_link": true
    },
    "kernelspec": {
      "name": "python3",
      "display_name": "Python 3"
    }
  },
  "cells": [
    {
      "cell_type": "markdown",
      "metadata": {
        "id": "view-in-github",
        "colab_type": "text"
      },
      "source": [
        "<a href=\"https://colab.research.google.com/github/m-hess/deep-learning-training/blob/master/TensorflowQuickStartTutorial.ipynb\" target=\"_parent\"><img src=\"https://colab.research.google.com/assets/colab-badge.svg\" alt=\"Open In Colab\"/></a>"
      ]
    },
    {
      "cell_type": "markdown",
      "metadata": {
        "id": "QzetXGhYQucn",
        "colab_type": "text"
      },
      "source": [
        "Setups"
      ]
    },
    {
      "cell_type": "code",
      "metadata": {
        "id": "JJwC-Z1-QLtW",
        "colab_type": "code",
        "colab": {}
      },
      "source": [
        "import tensorflow as tf"
      ],
      "execution_count": 0,
      "outputs": []
    },
    {
      "cell_type": "markdown",
      "metadata": {
        "id": "8KeZzauuRaDf",
        "colab_type": "text"
      },
      "source": [
        "Load and prep the [MNIST dataset](http://yann.lecun.com/exdb/mnist/)"
      ]
    },
    {
      "cell_type": "code",
      "metadata": {
        "id": "35eIAlhSRgco",
        "colab_type": "code",
        "colab": {}
      },
      "source": [
        "mnist = tf.keras.datasets.mnist\n",
        "\n",
        "(x_train, y_train), (x_test, y_test) = mnist.load_data()\n",
        "x_train, x_test = x_train / 255.0, x_test / 255.0\n"
      ],
      "execution_count": 0,
      "outputs": []
    },
    {
      "cell_type": "markdown",
      "metadata": {
        "id": "H5TPqmihUSyY",
        "colab_type": "text"
      },
      "source": [
        "Build the [`tf.keras.Sequential`](https://www.tensorflow.org/api_docs/python/tf/keras/Sequential) model by stacking layers. Choose an optimizedr and loss function for training."
      ]
    },
    {
      "cell_type": "code",
      "metadata": {
        "id": "5BYJJqfRUjDM",
        "colab_type": "code",
        "colab": {}
      },
      "source": [
        "model = tf.keras.models.Sequential([\n",
        "  tf.keras.layers.Flatten(input_shape=(28, 28)),\n",
        "  tf.keras.layers.Dense(128, activation='relu'),\n",
        "  tf.keras.layers.Dropout(0.2),\n",
        "  tf.keras.layers.Dense(10)\n",
        "])"
      ],
      "execution_count": 0,
      "outputs": []
    },
    {
      "cell_type": "markdown",
      "metadata": {
        "id": "8QqBGXieVqlh",
        "colab_type": "text"
      },
      "source": [
        "For each example the model returns a vector of [\"logits\"](https://developers.google.com/machine-learning/glossary#logits) or [\"log-odds\"](https://developers.google.com/machine-learning/glossary#log-odds) scores, one for each class."
      ]
    },
    {
      "cell_type": "code",
      "metadata": {
        "id": "Ymzq9VNDWAxr",
        "colab_type": "code",
        "colab": {
          "base_uri": "https://localhost:8080/",
          "height": 68
        },
        "outputId": "5b533b58-c027-4f7d-ba30-c27e932cf425"
      },
      "source": [
        "predictions = model(x_train[:1]).numpy()\n",
        "predictions"
      ],
      "execution_count": 45,
      "outputs": [
        {
          "output_type": "execute_result",
          "data": {
            "text/plain": [
              "array([[ 0.26915142,  0.39601508, -0.42259416,  0.21792316,  0.54816383,\n",
              "        -0.4814065 ,  0.07629816,  0.8714194 ,  0.15200478, -0.30125427]],\n",
              "      dtype=float32)"
            ]
          },
          "metadata": {
            "tags": []
          },
          "execution_count": 45
        }
      ]
    },
    {
      "cell_type": "markdown",
      "metadata": {
        "id": "BNprSMaEV8VP",
        "colab_type": "text"
      },
      "source": [
        "The [`tf.nn.softmax`](https://www.tensorflow.org/api_docs/python/tf/nn/softmax) function converts these logits to \"probabilities\" for each class:"
      ]
    },
    {
      "cell_type": "code",
      "metadata": {
        "id": "LS6EUFVcWVAm",
        "colab_type": "code",
        "colab": {
          "base_uri": "https://localhost:8080/",
          "height": 68
        },
        "outputId": "82d2cd90-6fe1-4a82-9d3b-55879fb6193c"
      },
      "source": [
        "tf.nn.softmax(predictions).numpy()"
      ],
      "execution_count": 46,
      "outputs": [
        {
          "output_type": "execute_result",
          "data": {
            "text/plain": [
              "array([[0.10542338, 0.11968318, 0.05278562, 0.10015872, 0.13935113,\n",
              "        0.0497707 , 0.08693244, 0.19253008, 0.09376933, 0.05959542]],\n",
              "      dtype=float32)"
            ]
          },
          "metadata": {
            "tags": []
          },
          "execution_count": 46
        }
      ]
    },
    {
      "cell_type": "markdown",
      "metadata": {
        "id": "OeiKbUkvW4mv",
        "colab_type": "text"
      },
      "source": [
        "The [`losses.SparseCategoricalCrossentropy`](https://www.tensorflow.org/api_docs/python/tf/keras/losses/SparseCategoricalCrossentropy) loss takes a vector of logits and a `True` index and returns a scalar loss for each example."
      ]
    },
    {
      "cell_type": "code",
      "metadata": {
        "id": "2UCQBc_-XDFg",
        "colab_type": "code",
        "colab": {}
      },
      "source": [
        "loss_fn = tf.keras.losses.SparseCategoricalCrossentropy(from_logits=True)"
      ],
      "execution_count": 0,
      "outputs": []
    },
    {
      "cell_type": "markdown",
      "metadata": {
        "id": "nACzCljcXLbT",
        "colab_type": "text"
      },
      "source": [
        "This loss is equal to the negative log probability of the true class: It is zero if the model is sure of the correct class. \n",
        "\n",
        "This untrained model gives probabilities close to random (1/10 for each class), so the initial loss should be close to `-tf.log(1/10) ~= 2.3)`"
      ]
    },
    {
      "cell_type": "code",
      "metadata": {
        "id": "-HUNbmofXDJq",
        "colab_type": "code",
        "colab": {
          "base_uri": "https://localhost:8080/",
          "height": 34
        },
        "outputId": "bde3050e-d0c6-4442-b14b-d2ac17461963"
      },
      "source": [
        "loss_fn(y_train[:1], predictions).numpy()"
      ],
      "execution_count": 48,
      "outputs": [
        {
          "output_type": "execute_result",
          "data": {
            "text/plain": [
              "3.0003288"
            ]
          },
          "metadata": {
            "tags": []
          },
          "execution_count": 48
        }
      ]
    },
    {
      "cell_type": "code",
      "metadata": {
        "id": "vHdKJmk8XxjA",
        "colab_type": "code",
        "colab": {}
      },
      "source": [
        "model.compile(optimizer='adam',\n",
        "              loss=loss_fn,\n",
        "              metrics=['accuracy'])"
      ],
      "execution_count": 0,
      "outputs": []
    },
    {
      "cell_type": "markdown",
      "metadata": {
        "id": "3Mdn6b0hX315",
        "colab_type": "text"
      },
      "source": [
        "The [`Model.fit`](https://www.tensorflow.org/api_docs/python/tf/keras/Model#fit) method adjusts the model parameters to minimize the loss:"
      ]
    },
    {
      "cell_type": "code",
      "metadata": {
        "id": "hr1sRg77YHcy",
        "colab_type": "code",
        "colab": {
          "base_uri": "https://localhost:8080/",
          "height": 204
        },
        "outputId": "d175506c-5b0e-4e84-9820-02813853fa3d"
      },
      "source": [
        "model.fit(x_train, y_train, epochs=5)"
      ],
      "execution_count": 50,
      "outputs": [
        {
          "output_type": "stream",
          "text": [
            "Epoch 1/5\n",
            "1875/1875 [==============================] - 4s 2ms/step - loss: 0.2942 - accuracy: 0.9140\n",
            "Epoch 2/5\n",
            "1875/1875 [==============================] - 4s 2ms/step - loss: 0.1411 - accuracy: 0.9578\n",
            "Epoch 3/5\n",
            "1875/1875 [==============================] - 3s 2ms/step - loss: 0.1051 - accuracy: 0.9682\n",
            "Epoch 4/5\n",
            "1875/1875 [==============================] - 3s 2ms/step - loss: 0.0865 - accuracy: 0.9726\n",
            "Epoch 5/5\n",
            "1875/1875 [==============================] - 4s 2ms/step - loss: 0.0722 - accuracy: 0.9775\n"
          ],
          "name": "stdout"
        },
        {
          "output_type": "execute_result",
          "data": {
            "text/plain": [
              "<tensorflow.python.keras.callbacks.History at 0x7efd26c9c7b8>"
            ]
          },
          "metadata": {
            "tags": []
          },
          "execution_count": 50
        }
      ]
    },
    {
      "cell_type": "markdown",
      "metadata": {
        "id": "eknynAz7Yz6f",
        "colab_type": "text"
      },
      "source": [
        "The [`Model.evaluate`](https://www.tensorflow.org/api_docs/python/tf/keras/Model#evaluate) method checks the model's performance, usually on a \"[Validation-set](https://developers.google.com/machine-learning/glossary#validation-set)\" or \"[Test-set](https://developers.google.com/machine-learning/glossary#test-set)\"."
      ]
    },
    {
      "cell_type": "code",
      "metadata": {
        "id": "CpUaKyCSZEJk",
        "colab_type": "code",
        "colab": {
          "base_uri": "https://localhost:8080/",
          "height": 51
        },
        "outputId": "b86ed748-6275-44aa-d1d4-05e932c9b1a9"
      },
      "source": [
        "model.evaluate(x_test, y_test, verbose=2)"
      ],
      "execution_count": 51,
      "outputs": [
        {
          "output_type": "stream",
          "text": [
            "313/313 - 0s - loss: 0.0739 - accuracy: 0.9764\n"
          ],
          "name": "stdout"
        },
        {
          "output_type": "execute_result",
          "data": {
            "text/plain": [
              "[0.07394060492515564, 0.9764000177383423]"
            ]
          },
          "metadata": {
            "tags": []
          },
          "execution_count": 51
        }
      ]
    },
    {
      "cell_type": "markdown",
      "metadata": {
        "id": "MWCjQluTZQSD",
        "colab_type": "text"
      },
      "source": [
        "The image classifier is now trained to ~98% accuracy!\n",
        "\n",
        "If you want the model to return a probability, you can wrap the trained model and attach the softmax to it:"
      ]
    },
    {
      "cell_type": "code",
      "metadata": {
        "id": "kL0rWEykZaEz",
        "colab_type": "code",
        "colab": {}
      },
      "source": [
        "probability_model = tf.keras.Sequential([\n",
        "  model,\n",
        "  tf.keras.layers.Softmax()\n",
        "])"
      ],
      "execution_count": 0,
      "outputs": []
    },
    {
      "cell_type": "code",
      "metadata": {
        "id": "So9PDsljZk7U",
        "colab_type": "code",
        "colab": {
          "base_uri": "https://localhost:8080/",
          "height": 289
        },
        "outputId": "f0247cb7-7a67-4bcd-9b68-c5caa2922f36"
      },
      "source": [
        "probability_model(x_test[:5])"
      ],
      "execution_count": 53,
      "outputs": [
        {
          "output_type": "execute_result",
          "data": {
            "text/plain": [
              "<tf.Tensor: shape=(5, 10), dtype=float32, numpy=\n",
              "array([[7.67181291e-07, 5.30797051e-09, 1.33525318e-05, 2.75521423e-03,\n",
              "        3.16652343e-10, 8.86946978e-08, 1.87186920e-12, 9.97194290e-01,\n",
              "        5.25724226e-06, 3.09436182e-05],\n",
              "       [9.20866647e-11, 3.99787168e-05, 9.99954820e-01, 4.33398873e-06,\n",
              "        1.41211726e-14, 7.92527374e-07, 7.09059123e-09, 1.85649239e-12,\n",
              "        8.67249597e-08, 5.96282951e-13],\n",
              "       [4.18793888e-07, 9.99335825e-01, 1.11148918e-04, 9.33888077e-06,\n",
              "        8.71135853e-05, 8.87261592e-07, 1.39553440e-05, 3.16322898e-04,\n",
              "        1.18560136e-04, 6.35685137e-06],\n",
              "       [9.99944210e-01, 5.67153080e-09, 1.91044437e-05, 6.18715740e-06,\n",
              "        1.58360631e-08, 5.22930350e-06, 1.97278928e-06, 9.20665116e-06,\n",
              "        2.22505374e-08, 1.39982531e-05],\n",
              "       [5.14070962e-07, 7.94454669e-10, 3.09606708e-06, 1.32405842e-06,\n",
              "        9.99180257e-01, 1.58301901e-07, 3.53815523e-07, 3.74676129e-05,\n",
              "        6.27007921e-07, 7.76209694e-04]], dtype=float32)>"
            ]
          },
          "metadata": {
            "tags": []
          },
          "execution_count": 53
        }
      ]
    }
  ]
}